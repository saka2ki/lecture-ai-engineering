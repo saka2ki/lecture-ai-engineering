{
 "cells": [
  {
   "cell_type": "markdown",
   "metadata": {
    "id": "gSpnWBP5ELSI"
   },
   "source": [
    "# 実践演習 Day 1：streamlitとFastAPIのデモ\n",
    "このノートブックでは以下の内容を学習します。\n",
    "\n",
    "- 必要なライブラリのインストールと環境設定\n",
    "- Hugging Faceからモデルを用いたStreamlitのデモアプリ\n",
    "- FastAPIとngrokを使用したAPIの公開方法\n",
    "\n",
    "演習を始める前に、HuggingFaceとngrokのアカウントを作成し、\n",
    "それぞれのAPIトークンを取得する必要があります。\n",
    "\n",
    "\n",
    "演習の時間では、以下の3つのディレクトリを順に説明します。\n",
    "\n",
    "1. 01_streamlit_UI\n",
    "2. 02_streamlit_app\n",
    "3. 03_FastAPI\n",
    "\n",
    "2つ目や3つ目からでも始められる様にノートブックを作成しています。\n",
    "\n",
    "復習の際にもこのノートブックを役立てていただければと思います。\n",
    "\n",
    "### 注意事項\n",
    "「02_streamlit_app」と「03_FastAPI」では、GPUを使用します。\n",
    "\n",
    "これらを実行する際は、Google Colab画面上のメニューから「編集」→ 「ノートブックの設定」\n",
    "\n",
    "「ハードウェアアクセラレーター」の項目の中から、「T4 GPU」を選択してください。\n",
    "\n",
    "このノートブックのデフォルトは「CPU」になっています。\n",
    "\n",
    "---"
   ]
  },
  {
   "cell_type": "markdown",
   "metadata": {
    "id": "OhtHkJOgELSL"
   },
   "source": [
    "# 環境変数の設定（1~3共有）\n"
   ]
  },
  {
   "cell_type": "markdown",
   "metadata": {
    "id": "Y-FjBp4MMQHM"
   },
   "source": [
    "GitHubから演習用のコードをCloneします。"
   ]
  },
  {
   "cell_type": "code",
   "execution_count": null,
   "metadata": {
    "id": "AIXMavdDEP8U"
   },
   "outputs": [],
   "source": "#!git clone https://github.com/matsuolab/lecture-ai-engineering.git"
  },
  {
   "cell_type": "markdown",
   "metadata": {
    "id": "XC8n7yZ_vs1K"
   },
   "source": [
    "必要なAPIトークンを.envに設定します。\n",
    "\n",
    "「lecture-ai-engineering/day1」の配下に、「.env_template」ファイルが存在しています。\n",
    "\n",
    "隠しファイルのため表示されていない場合は、画面左側のある、目のアイコンの「隠しファイルの表示」ボタンを押してください。\n",
    "\n",
    "「.env_template」のファイル名を「.env」に変更します。「.env」ファイルを開くと、以下のような中身になっています。\n",
    "\n",
    "\n",
    "```\n",
    "HUGGINGFACE_TOKEN=\"hf-********\"\n",
    "NGROK_TOKEN=\"********\"\n",
    "```\n",
    "ダブルクオーテーションで囲まれた文字列をHuggingfaceのアクセストークンと、ngrokの認証トークンで書き変えてください。\n",
    "\n",
    "それぞれのアカウントが作成済みであれば、以下のURLからそれぞれのトークンを取得できます。\n",
    "\n",
    "- Huggingfaceのアクセストークン\n",
    "https://huggingface.co/docs/hub/security-tokens\n",
    "\n",
    "- ngrokの認証トークン\n",
    "https://dashboard.ngrok.com/get-started/your-authtoken\n",
    "\n",
    "書き換えたら、「.env」ファイルをローカルのPCにダウンロードしてください。\n",
    "\n",
    "「01_streamlit_UI」から「02_streamlit_app」へ進む際に、CPUからGPUの利用に切り替えるため、セッションが一度切れてしまいます。\n",
    "\n",
    "その際に、トークンを設定した「.env」ファイルは再作成することになるので、その手間を減らすために「.env」ファイルをダウンロードしておくと良いです。"
   ]
  },
  {
   "cell_type": "markdown",
   "metadata": {
    "id": "Py1BFS5RqcSS"
   },
   "source": [
    "「.env」ファイルを読み込み、環境変数として設定します。次のセルを実行し、最終的に「True」が表示されていればうまく読み込めています。"
   ]
  },
  {
   "cell_type": "code",
   "metadata": {
    "id": "bvEowFfg5lrq",
    "ExecuteTime": {
     "end_time": "2025-04-25T07:10:27.109154Z",
     "start_time": "2025-04-25T07:10:27.096637Z"
    }
   },
   "source": [
    "#!pip install python-dotenv\n",
    "from dotenv import load_dotenv, find_dotenv\n",
    "\n",
    "#%cd /content/lecture-ai-engineering/day1\n",
    "load_dotenv(find_dotenv())"
   ],
   "outputs": [
    {
     "data": {
      "text/plain": [
       "True"
      ]
     },
     "execution_count": 2,
     "metadata": {},
     "output_type": "execute_result"
    }
   ],
   "execution_count": 2
  },
  {
   "cell_type": "markdown",
   "metadata": {
    "id": "os0Yk6gaELSM"
   },
   "source": [
    "# 01_streamlit_UI\n",
    "\n",
    "ディレクトリ「01_streamlit_UI」に移動します。"
   ]
  },
  {
   "cell_type": "code",
   "metadata": {
    "id": "S28XgOm0ELSM",
    "ExecuteTime": {
     "end_time": "2025-04-25T07:11:18.817728Z",
     "start_time": "2025-04-25T07:11:18.803071Z"
    }
   },
   "source": [
    "#%cd /content/lecture-ai-engineering/day1/01_streamlit_UI\n",
    "%cd 01_streamlit_UI"
   ],
   "outputs": [
    {
     "name": "stdout",
     "output_type": "stream",
     "text": [
      "C:\\Users\\Ur451\\Desktop\\lecture-ai-engineering\\day1\\01_streamlit_UI\n"
     ]
    }
   ],
   "execution_count": 6
  },
  {
   "cell_type": "markdown",
   "metadata": {
    "id": "eVp-aEIkELSM"
   },
   "source": [
    "必要なライブラリをインストールします。"
   ]
  },
  {
   "cell_type": "code",
   "execution_count": null,
   "metadata": {
    "id": "nBe41LFiELSN"
   },
   "outputs": [],
   "source": [
    "%%capture\n",
    "#!pip install -r requirements.txt"
   ]
  },
  {
   "cell_type": "markdown",
   "metadata": {
    "id": "Yyw6VHaTELSN"
   },
   "source": [
    "ngrokのトークンを使用して、認証を行います。"
   ]
  },
  {
   "cell_type": "code",
   "metadata": {
    "id": "aYw1q0iXELSN",
    "ExecuteTime": {
     "end_time": "2025-04-25T07:11:38.302535Z",
     "start_time": "2025-04-25T07:11:38.109424Z"
    }
   },
   "source": [
    "#!ngrok authtoken $$NGROK_TOKEN\n",
    "import os\n",
    "!ngrok authtoken {os.getenv(\"NGROK_TOKEN\")}"
   ],
   "outputs": [
    {
     "name": "stdout",
     "output_type": "stream",
     "text": [
      "Authtoken saved to configuration file: C:\\Users\\Ur451\\AppData\\Local/ngrok/ngrok.yml\n"
     ]
    }
   ],
   "execution_count": 8
  },
  {
   "cell_type": "markdown",
   "metadata": {
    "id": "RssTcD_IELSN"
   },
   "source": [
    "アプリを起動します。"
   ]
  },
  {
   "cell_type": "code",
   "metadata": {
    "id": "f-E7ucR6ELSN",
    "ExecuteTime": {
     "end_time": "2025-04-25T07:11:56.804974Z",
     "start_time": "2025-04-25T07:11:45.394394Z"
    }
   },
   "source": [
    "from pyngrok import ngrok\n",
    "\n",
    "public_url = ngrok.connect(8501).public_url\n",
    "print(f\"公開URL: {public_url}\")\n",
    "!streamlit run app.py"
   ],
   "outputs": [
    {
     "name": "stdout",
     "output_type": "stream",
     "text": [
      "公開URL: https://2cab-125-12-140-192.ngrok-free.app\n",
      "^C\n"
     ]
    }
   ],
   "execution_count": 9
  },
  {
   "cell_type": "markdown",
   "metadata": {
    "id": "kbYyXVFjELSN"
   },
   "source": [
    "公開URLの後に記載されているURLにブラウザでアクセスすると、streamlitのUIが表示されます。\n",
    "\n",
    "app.pyのコメントアウトされている箇所を編集することで、UIがどの様に変化するか確認してみましょう。\n",
    "\n",
    "streamlitの公式ページには、ギャラリーページがあります。\n",
    "\n",
    "streamlitを使うとpythonという一つの言語であっても、様々なUIを実現できることがわかると思います。\n",
    "\n",
    "https://streamlit.io/gallery"
   ]
  },
  {
   "cell_type": "markdown",
   "metadata": {
    "id": "MmtP5GLOELSN"
   },
   "source": [
    "後片付けとして、使う必要のないngrokのトンネルを削除します。"
   ]
  },
  {
   "cell_type": "code",
   "metadata": {
    "id": "8Ek9QgahELSO",
    "ExecuteTime": {
     "end_time": "2025-04-25T07:12:01.335397Z",
     "start_time": "2025-04-25T07:12:01.319754Z"
    }
   },
   "source": [
    "from pyngrok import ngrok\n",
    "ngrok.kill()"
   ],
   "outputs": [],
   "execution_count": 10
  },
  {
   "cell_type": "markdown",
   "metadata": {
    "id": "o-T8tFpyELSO"
   },
   "source": [
    "# 02_streamlit_app"
   ]
  },
  {
   "cell_type": "markdown",
   "metadata": {
    "id": "QqogFQKnELSO"
   },
   "source": [
    "\n",
    "ディレクトリ「02_streamlit_app」に移動します。"
   ]
  },
  {
   "cell_type": "code",
   "metadata": {
    "id": "UeEjlJ7uELSO",
    "ExecuteTime": {
     "end_time": "2025-04-25T07:17:21.988914Z",
     "start_time": "2025-04-25T07:17:21.979556Z"
    }
   },
   "source": [
    "#%cd /content/lecture-ai-engineering/day1/02_streamlit_app\n",
    "%cd ../02_streamlit_app"
   ],
   "outputs": [
    {
     "name": "stdout",
     "output_type": "stream",
     "text": [
      "C:\\Users\\Ur451\\Desktop\\lecture-ai-engineering\\day1\\02_streamlit_app\n"
     ]
    }
   ],
   "execution_count": 23
  },
  {
   "cell_type": "markdown",
   "metadata": {
    "id": "-XUH2AstELSO"
   },
   "source": [
    "必要なライブラリをインストールします。"
   ]
  },
  {
   "cell_type": "code",
   "execution_count": null,
   "metadata": {
    "id": "mDqvI4V3ELSO"
   },
   "outputs": [],
   "source": [
    "%%capture\n",
    "#!pip install -r requirements.txt"
   ]
  },
  {
   "cell_type": "markdown",
   "metadata": {
    "id": "ZO31umGZELSO"
   },
   "source": [
    "ngrokとhuggigfaceのトークンを使用して、認証を行います。"
   ]
  },
  {
   "cell_type": "code",
   "metadata": {
    "id": "jPxTiEWQELSO",
    "ExecuteTime": {
     "end_time": "2025-04-25T07:17:26.233887Z",
     "start_time": "2025-04-25T07:17:25.256984Z"
    }
   },
   "source": [
    "#!ngrok authtoken $$NGROK_TOKEN\n",
    "#!huggingface-cli login --token $$HUGGINGFACE_TOKEN\n",
    "\n",
    "import os\n",
    "!ngrok authtoken {os.getenv(\"NGROK_TOKEN\")}\n",
    "!huggingface-cli login --token {os.getenv(\"HUGGINGFACE_TOKEN\")}"
   ],
   "outputs": [
    {
     "name": "stdout",
     "output_type": "stream",
     "text": [
      "Authtoken saved to configuration file: C:\\Users\\Ur451\\AppData\\Local/ngrok/ngrok.yml\n"
     ]
    },
    {
     "name": "stderr",
     "output_type": "stream",
     "text": [
      "The token has not been saved to the git credentials helper. Pass `add_to_git_credential=True` in this function directly or `--add-to-git-credential` if using via `huggingface-cli` if you want to set the git credential as well.\n",
      "Token is valid (permission: fineGrained).\n",
      "The token `final_task` has been saved to C:\\Users\\Ur451\\.cache\\huggingface\\stored_tokens\n",
      "Your token has been saved to C:\\Users\\Ur451\\.cache\\huggingface\\token\n",
      "Login successful.\n",
      "The current active token is: `final_task`\n"
     ]
    }
   ],
   "execution_count": 24
  },
  {
   "cell_type": "markdown",
   "metadata": {
    "id": "dz4WrELLELSP"
   },
   "source": [
    "stramlitでHuggingfaceのトークン情報を扱うために、streamlit用の設定ファイル（.streamlit）を作成し、トークンの情報を格納します。"
   ]
  },
  {
   "cell_type": "code",
   "metadata": {
    "id": "W184-a7qFP0W",
    "ExecuteTime": {
     "end_time": "2025-04-25T07:17:28.750260Z",
     "start_time": "2025-04-25T07:17:28.741759Z"
    }
   },
   "source": [
    "# .streamlit/secrets.toml ファイルを作成\n",
    "import os\n",
    "import toml\n",
    "\n",
    "# 設定ファイルのディレクトリ確保\n",
    "os.makedirs('.streamlit', exist_ok=True)\n",
    "\n",
    "# 環境変数から取得したトークンを設定ファイルに書き込む\n",
    "secrets = {\n",
    "    \"huggingface\": {\n",
    "        \"token\": os.environ.get(\"HUGGINGFACE_TOKEN\", \"\")\n",
    "    }\n",
    "}\n",
    "\n",
    "# 設定ファイルを書き込む\n",
    "with open('.streamlit/secrets.toml', 'w') as f:\n",
    "    toml.dump(secrets, f)"
   ],
   "outputs": [],
   "execution_count": 25
  },
  {
   "cell_type": "markdown",
   "metadata": {
    "id": "fK0vI_xKELSP"
   },
   "source": [
    "アプリを起動します。\n",
    "\n",
    "02_streamlit_appでは、Huggingfaceからモデルをダウンロードするため、初回起動には2分程度時間がかかります。\n",
    "\n",
    "この待ち時間を利用して、app.pyのコードを確認してみましょう。"
   ]
  },
  {
   "cell_type": "code",
   "metadata": {
    "id": "TBQyTTWTELSP",
    "ExecuteTime": {
     "end_time": "2025-04-25T07:17:51.694908Z",
     "start_time": "2025-04-25T07:17:30.858774Z"
    }
   },
   "source": [
    "from pyngrok import ngrok\n",
    "\n",
    "public_url = ngrok.connect(8501).public_url\n",
    "print(f\"公開URL: {public_url}\")\n",
    "!streamlit run app.py"
   ],
   "outputs": [
    {
     "name": "stdout",
     "output_type": "stream",
     "text": [
      "公開URL: https://71c9-125-12-140-192.ngrok-free.app\n",
      "^C\n"
     ]
    }
   ],
   "execution_count": 26
  },
  {
   "cell_type": "markdown",
   "metadata": {},
   "source": [
    "アプリケーションの機能としては、チャット機能や履歴閲覧があります。\n",
    "\n",
    "これらの機能を実現するためには、StreamlitによるUI部分だけではなく、SQLiteを使用したチャット履歴の保存やLLMのモデルを呼び出した推論などの処理を組み合わせることで実現しています。\n",
    "\n",
    "- **`app.py`**: アプリケーションのエントリーポイント。チャット機能、履歴閲覧、サンプルデータ管理のUIを提供します。\n",
    "- **`ui.py`**: チャットページや履歴閲覧ページなど、アプリケーションのUIロジックを管理します。\n",
    "- **`llm.py`**: LLMモデルのロードとテキスト生成を行うモジュール。\n",
    "- **`database.py`**: SQLiteデータベースを使用してチャット履歴やフィードバックを保存・管理します。\n",
    "- **`metrics.py`**: BLEUスコアやコサイン類似度など、回答の評価指標を計算するモジュール。\n",
    "- **`data.py`**: サンプルデータの作成やデータベースの初期化を行うモジュール。\n",
    "- **`config.py`**: アプリケーションの設定（モデル名やデータベースファイル名）を管理します。\n",
    "- **`requirements.txt`**: このアプリケーションを実行するために必要なPythonパッケージ。"
   ]
  },
  {
   "cell_type": "markdown",
   "metadata": {
    "id": "Xvm8sWFPELSP"
   },
   "source": [
    "後片付けとして、使う必要のないngrokのトンネルを削除します。"
   ]
  },
  {
   "cell_type": "code",
   "metadata": {
    "id": "WFJC2TmZELSP",
    "ExecuteTime": {
     "end_time": "2025-04-25T07:17:05.936571Z",
     "start_time": "2025-04-25T07:17:05.929285Z"
    }
   },
   "source": [
    "from pyngrok import ngrok\n",
    "ngrok.kill()"
   ],
   "outputs": [],
   "execution_count": 22
  },
  {
   "cell_type": "markdown",
   "metadata": {
    "id": "rUXhIzV7ELSP"
   },
   "source": [
    "# 03_FastAPI\n",
    "\n",
    "ディレクトリ「03_FastAPI」に移動します。"
   ]
  },
  {
   "cell_type": "code",
   "metadata": {
    "id": "4ejjDLxr3kfC",
    "ExecuteTime": {
     "end_time": "2025-04-25T07:17:56.329960Z",
     "start_time": "2025-04-25T07:17:56.325780Z"
    }
   },
   "source": [
    "#%cd /content/lecture-ai-engineering/day1/03_FastAPI\n",
    "%cd ../03_FastAPI"
   ],
   "outputs": [
    {
     "name": "stdout",
     "output_type": "stream",
     "text": [
      "C:\\Users\\Ur451\\Desktop\\lecture-ai-engineering\\day1\\03_FastAPI\n"
     ]
    }
   ],
   "execution_count": 27
  },
  {
   "cell_type": "markdown",
   "metadata": {
    "id": "f45TDsNzELSQ"
   },
   "source": [
    "必要なライブラリをインストールします。"
   ]
  },
  {
   "cell_type": "code",
   "execution_count": null,
   "metadata": {
    "id": "9uv6glCz5a7Z"
   },
   "outputs": [],
   "source": [
    "%%capture\n",
    "#!pip install -r requirements.txt"
   ]
  },
  {
   "cell_type": "markdown",
   "metadata": {
    "id": "JfrmE2VmELSQ"
   },
   "source": [
    "ngrokとhuggigfaceのトークンを使用して、認証を行います。"
   ]
  },
  {
   "cell_type": "code",
   "metadata": {
    "id": "ELzWhMFORRIO",
    "ExecuteTime": {
     "end_time": "2025-04-25T07:18:26.373422Z",
     "start_time": "2025-04-25T07:18:25.363398Z"
    }
   },
   "source": [
    "#!ngrok authtoken $$NGROK_TOKEN\n",
    "#!huggingface-cli login --token $$HUGGINGFACE_TOKEN\n",
    "\n",
    "import os\n",
    "!ngrok authtoken {os.getenv(\"NGROK_TOKEN\")}\n",
    "!huggingface-cli login --token {os.getenv(\"HUGGINGFACE_TOKEN\")}"
   ],
   "outputs": [
    {
     "name": "stdout",
     "output_type": "stream",
     "text": [
      "Authtoken saved to configuration file: C:\\Users\\Ur451\\AppData\\Local/ngrok/ngrok.yml\n"
     ]
    },
    {
     "name": "stderr",
     "output_type": "stream",
     "text": [
      "The token has not been saved to the git credentials helper. Pass `add_to_git_credential=True` in this function directly or `--add-to-git-credential` if using via `huggingface-cli` if you want to set the git credential as well.\n",
      "Token is valid (permission: fineGrained).\n",
      "The token `final_task` has been saved to C:\\Users\\Ur451\\.cache\\huggingface\\stored_tokens\n",
      "Your token has been saved to C:\\Users\\Ur451\\.cache\\huggingface\\token\n",
      "Login successful.\n",
      "The current active token is: `final_task`\n"
     ]
    }
   ],
   "execution_count": 30
  },
  {
   "cell_type": "markdown",
   "metadata": {
    "id": "t-wztc2CELSQ"
   },
   "source": [
    "アプリを起動します。\n",
    "\n",
    "「02_streamlit_app」から続けて「03_FastAPI」を実行している場合は、モデルのダウンロードが済んでいるため、すぐにサービスが立ち上がります。\n",
    "\n",
    "「03_FastAPI」のみを実行している場合は、初回の起動時にモデルのダウンロードが始まるので、モデルのダウンロードが終わるまで数分間待ちましょう。"
   ]
  },
  {
   "cell_type": "code",
   "metadata": {
    "id": "meQ4SwISn3IQ",
    "ExecuteTime": {
     "end_time": "2025-04-25T07:20:39.768066Z",
     "start_time": "2025-04-25T07:20:29.948296Z"
    }
   },
   "source": [
    "!python app.py"
   ],
   "outputs": [
    {
     "name": "stdout",
     "output_type": "stream",
     "text": [
      "モデル名を設定: google/gemma-2-2b-jpn-it\n",
      "FastAPIエンドポイントを定義しました。\n",
      "アクティブなngrokトンネルはありません。\n",
      "ポート8501に新しいngrokトンネルを開いています...\n",
      "---------------------------------------------------------------------\n",
      "✅ 公開URL:   https://c479-125-12-140-192.ngrok-free.app\n",
      "📖 APIドキュメント (Swagger UI): https://c479-125-12-140-192.ngrok-free.app/docs\n",
      "---------------------------------------------------------------------\n",
      "(APIクライアントやブラウザからアクセスするためにこのURLをコピーしてください)\n",
      "load_model_task: モデルの読み込みを開始...\n",
      "使用デバイス: cuda\n",
      "モデル 'google/gemma-2-2b-jpn-it' の読み込みに成功しました\n",
      "load_model_task: モデルの読み込みが完了しました。\n",
      "起動時にモデルの初期化が完了しました。\n"
     ]
    },
    {
     "name": "stderr",
     "output_type": "stream",
     "text": [
      "C:\\Users\\Ur451\\Desktop\\lecture-ai-engineering\\day1\\03_FastAPI\\app.py:134: DeprecationWarning: \n",
      "        on_event is deprecated, use lifespan event handlers instead.\n",
      "\n",
      "        Read more about it in the\n",
      "        [FastAPI docs for Lifespan Events](https://fastapi.tiangolo.com/advanced/events/).\n",
      "        \n",
      "  @app.on_event(\"startup\")\n",
      "INFO:     Started server process [19196]\n",
      "INFO:     Waiting for application startup.\n",
      "\n",
      "Loading checkpoint shards:   0%|          | 0/2 [00:00<?, ?it/s]\n",
      "Loading checkpoint shards:  50%|█████     | 1/2 [00:00<00:00,  3.85it/s]\n",
      "Loading checkpoint shards: 100%|██████████| 2/2 [00:00<00:00,  7.64it/s]\n",
      "Device set to use cuda\n",
      "INFO:     Application startup complete.\n",
      "ERROR:    [Errno 10048] error while attempting to bind on address ('0.0.0.0', 8501): [winerror 10048] 通常、各ソケット アドレスに対してプロトコル、ネットワーク アドレス、またはポートのどれか 1 つのみを使用できます。\n",
      "INFO:     Waiting for application shutdown.\n",
      "INFO:     Application shutdown complete.\n",
      "Task exception was never retrieved\n",
      "future: <Task finished name='Task-1' coro=<Server.serve() done, defined at C:\\Users\\Ur451\\Desktop\\lecture-ai-engineering\\.venv\\Lib\\site-packages\\uvicorn\\server.py:68> exception=SystemExit(1)>\n",
      "Traceback (most recent call last):\n",
      "  File \"C:\\Users\\Ur451\\Desktop\\lecture-ai-engineering\\.venv\\Lib\\site-packages\\uvicorn\\server.py\", line 163, in startup\n",
      "    server = await loop.create_server(\n",
      "             ^^^^^^^^^^^^^^^^^^^^^^^^^\n",
      "  File \"C:\\Users\\Ur451\\AppData\\Roaming\\uv\\python\\cpython-3.12.10-windows-x86_64-none\\Lib\\asyncio\\base_events.py\", line 1584, in create_server\n",
      "    raise OSError(err.errno, msg) from None\n",
      "OSError: [Errno 10048] error while attempting to bind on address ('0.0.0.0', 8501): [winerror 10048] 通常、各ソケット アドレスに対してプロトコル、ネットワーク アドレス、またはポートのどれか 1 つのみを使用できます。\n",
      "\n",
      "During handling of the above exception, another exception occurred:\n",
      "\n",
      "Traceback (most recent call last):\n",
      "  File \"C:\\Users\\Ur451\\Desktop\\lecture-ai-engineering\\day1\\03_FastAPI\\app.py\", line 282, in <module>\n",
      "    run_with_ngrok(port=8501)  # このポート番号を確認\n",
      "    ^^^^^^^^^^^^^^^^^^^^^^^^^\n",
      "  File \"C:\\Users\\Ur451\\Desktop\\lecture-ai-engineering\\day1\\03_FastAPI\\app.py\", line 264, in run_with_ngrok\n",
      "    uvicorn.run(app, host=\"0.0.0.0\", port=port, log_level=\"info\")  # ログレベルをinfoに設定\n",
      "    ^^^^^^^^^^^^^^^^^^^^^^^^^^^^^^^^^^^^^^^^^^^^^^^^^^^^^^^^^^^^^\n",
      "  File \"C:\\Users\\Ur451\\Desktop\\lecture-ai-engineering\\.venv\\Lib\\site-packages\\uvicorn\\main.py\", line 580, in run\n",
      "    server.run()\n",
      "  File \"C:\\Users\\Ur451\\Desktop\\lecture-ai-engineering\\.venv\\Lib\\site-packages\\uvicorn\\server.py\", line 66, in run\n",
      "    return asyncio.run(self.serve(sockets=sockets))\n",
      "           ^^^^^^^^^^^^^^^^^^^^^^^^^^^^^^^^^^^^^^^^\n",
      "  File \"C:\\Users\\Ur451\\Desktop\\lecture-ai-engineering\\.venv\\Lib\\site-packages\\nest_asyncio.py\", line 30, in run\n",
      "    return loop.run_until_complete(task)\n",
      "           ^^^^^^^^^^^^^^^^^^^^^^^^^^^^^\n",
      "  File \"C:\\Users\\Ur451\\Desktop\\lecture-ai-engineering\\.venv\\Lib\\site-packages\\nest_asyncio.py\", line 92, in run_until_complete\n",
      "    self._run_once()\n",
      "  File \"C:\\Users\\Ur451\\Desktop\\lecture-ai-engineering\\.venv\\Lib\\site-packages\\nest_asyncio.py\", line 133, in _run_once\n",
      "    handle._run()\n",
      "  File \"C:\\Users\\Ur451\\AppData\\Roaming\\uv\\python\\cpython-3.12.10-windows-x86_64-none\\Lib\\asyncio\\events.py\", line 88, in _run\n",
      "    self._context.run(self._callback, *self._args)\n",
      "  File \"C:\\Users\\Ur451\\AppData\\Roaming\\uv\\python\\cpython-3.12.10-windows-x86_64-none\\Lib\\asyncio\\tasks.py\", line 396, in __wakeup\n",
      "    self.__step()\n",
      "  File \"C:\\Users\\Ur451\\AppData\\Roaming\\uv\\python\\cpython-3.12.10-windows-x86_64-none\\Lib\\asyncio\\tasks.py\", line 303, in __step\n",
      "    self.__step_run_and_handle_result(exc)\n",
      "  File \"C:\\Users\\Ur451\\AppData\\Roaming\\uv\\python\\cpython-3.12.10-windows-x86_64-none\\Lib\\asyncio\\tasks.py\", line 314, in __step_run_and_handle_result\n",
      "    result = coro.send(None)\n",
      "             ^^^^^^^^^^^^^^^\n",
      "  File \"C:\\Users\\Ur451\\Desktop\\lecture-ai-engineering\\.venv\\Lib\\site-packages\\uvicorn\\server.py\", line 70, in serve\n",
      "    await self._serve(sockets)\n",
      "  File \"C:\\Users\\Ur451\\Desktop\\lecture-ai-engineering\\.venv\\Lib\\site-packages\\uvicorn\\server.py\", line 85, in _serve\n",
      "    await self.startup(sockets=sockets)\n",
      "  File \"C:\\Users\\Ur451\\Desktop\\lecture-ai-engineering\\.venv\\Lib\\site-packages\\uvicorn\\server.py\", line 173, in startup\n",
      "    sys.exit(1)\n",
      "SystemExit: 1\n"
     ]
    }
   ],
   "execution_count": 32
  },
  {
   "cell_type": "markdown",
   "metadata": {
    "id": "RLubjIhbELSR"
   },
   "source": [
    "FastAPIが起動すると、APIとクライアントが通信するためのURL（エンドポイント）が作られます。\n",
    "\n",
    "URLが作られるのと合わせて、Swagger UIというWebインターフェースが作られます。\n",
    "\n",
    "Swagger UIにアクセスすることで、APIの仕様を確認できたり、APIをテストすることができます。\n",
    "\n",
    "Swagger UIを利用することで、APIを通してLLMを動かしてみましょう。"
   ]
  },
  {
   "cell_type": "markdown",
   "metadata": {
    "id": "XgumW3mGELSR"
   },
   "source": [
    "後片付けとして、使う必要のないngrokのトンネルを削除します。"
   ]
  },
  {
   "cell_type": "code",
   "metadata": {
    "id": "RJymTZio-WPJ",
    "ExecuteTime": {
     "end_time": "2025-04-25T07:22:27.382872Z",
     "start_time": "2025-04-25T07:22:27.379876Z"
    }
   },
   "source": [
    "from pyngrok import ngrok\n",
    "ngrok.kill()"
   ],
   "outputs": [],
   "execution_count": 33
  }
 ],
 "metadata": {
  "colab": {
   "provenance": []
  },
  "kernelspec": {
   "display_name": "Python 3",
   "name": "python3"
  },
  "language_info": {
   "name": "python"
  }
 },
 "nbformat": 4,
 "nbformat_minor": 0
}
